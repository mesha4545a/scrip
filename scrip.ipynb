{
 "cells": [
  {
   "cell_type": "code",
   "execution_count": 4,
   "id": "mighty-explorer",
   "metadata": {},
   "outputs": [],
   "source": [
    "import requests\n",
    "from bs4 import BeautifulSoup\n",
    "import pandas as pd"
   ]
  },
  {
   "cell_type": "code",
   "execution_count": 5,
   "id": "micro-pregnancy",
   "metadata": {},
   "outputs": [],
   "source": [
    "URL = 'https://basketball.realgm.com/nba/awards/by-type/Player-Of-The-Week/30'"
   ]
  },
  {
   "cell_type": "code",
   "execution_count": 6,
   "id": "approved-liability",
   "metadata": {},
   "outputs": [],
   "source": [
    "response = requests.get(URL)"
   ]
  },
  {
   "cell_type": "code",
   "execution_count": 7,
   "id": "damaged-allen",
   "metadata": {},
   "outputs": [],
   "source": [
    "soup = BeautifulSoup(response.content,'html.parser')"
   ]
  },
  {
   "cell_type": "code",
   "execution_count": 9,
   "id": "polish-identity",
   "metadata": {},
   "outputs": [],
   "source": [
    "table = soup.find('table', attrs={'class': 'tablesaw','data-tablesaw-mode':'swipe'}).tbody\n",
    "#tablesaw tablesaw-swipe tablesaw-sortable\n",
    "#data-tablesaw-mode ='swipe'"
   ]
  },
  {
   "cell_type": "code",
   "execution_count": 11,
   "id": "young-contract",
   "metadata": {},
   "outputs": [],
   "source": [
    "columns = ['Season', 'Player Name', 'Conference', 'Date', 'Team','Pos','Hight','Weight','Age','PreDraftTeam','DraftYear','YOS']\n",
    "df = pd.DataFrame(columns=columns)\n"
   ]
  },
  {
   "cell_type": "code",
   "execution_count": 12,
   "id": "abstract-legislation",
   "metadata": {},
   "outputs": [],
   "source": [
    "table = soup.find('table', attrs={'class': 'tablesaw','data-tablesaw-mode':'swipe'}).tbody\n",
    "trs = table.find_all('tr')\n",
    "for tr in trs:\n",
    "  tds = tr.find_all('td')\n",
    "  row = [td.text.replace('/n', '') for td in tds]\n",
    "  df = df.append(pd.Series(row, index=columns), ignore_index=True)"
   ]
  },
  {
   "cell_type": "code",
   "execution_count": 13,
   "id": "decimal-ferry",
   "metadata": {},
   "outputs": [],
   "source": [
    "df.to_csv('nba player of the wee.csv',index=False)"
   ]
  }
 ],
 "metadata": {
  "kernelspec": {
   "display_name": "Python 3",
   "language": "python",
   "name": "python3"
  },
  "language_info": {
   "codemirror_mode": {
    "name": "ipython",
    "version": 3
   },
   "file_extension": ".py",
   "mimetype": "text/x-python",
   "name": "python",
   "nbconvert_exporter": "python",
   "pygments_lexer": "ipython3",
   "version": "3.8.5"
  }
 },
 "nbformat": 4,
 "nbformat_minor": 5
}
